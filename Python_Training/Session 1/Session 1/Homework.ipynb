{
 "cells": [
  {
   "cell_type": "code",
   "execution_count": 1,
   "metadata": {},
   "outputs": [
    {
     "name": "stdout",
     "output_type": "stream",
     "text": [
      "Values inside the function:  [10, 20, 30, [1, 2, 3, 4]]\n",
      "Values outside the function:  [10, 20, 30, [1, 2, 3, 4]]\n"
     ]
    }
   ],
   "source": [
    "def changeme( mylist ):\n",
    "   # \"This changes a passed list into this function\"\n",
    "   mylist.append([1,2,3,4]);\n",
    "   print (\"Values inside the function: \", mylist)\n",
    "   return mylist\n",
    "\n",
    "# Now you can call changeme function\n",
    "mylist = [10,20,30];\n",
    "newlist=changeme( mylist );\n",
    "print (\"Values outside the function: \", mylist)\n"
   ]
  },
  {
   "cell_type": "code",
   "execution_count": 2,
   "metadata": {},
   "outputs": [
    {
     "name": "stdout",
     "output_type": "stream",
     "text": [
      "Values inside the function:  [1, 2, 3, 4]\n",
      "Values outside the function:  [10, 20, 30]\n"
     ]
    }
   ],
   "source": [
    "def changeme( mylist ):\n",
    "   # \"This changes a passed list into this function\"\n",
    "\n",
    "    mylist=[1,2,3,4]\n",
    "   \n",
    "    print (\"Values inside the function: \", mylist)\n",
    "    return mylist\n",
    "\n",
    "# Now you can call changeme function\n",
    "mylist = [10,20,30];\n",
    "newlist=changeme( mylist );\n",
    "print (\"Values outside the function: \", mylist)\n"
   ]
  },
  {
   "cell_type": "code",
   "execution_count": 4,
   "metadata": {},
   "outputs": [
    {
     "name": "stdout",
     "output_type": "stream",
     "text": [
      "color is set to:  red\n",
      "red\n",
      "New color is blue\n",
      "blue\n"
     ]
    }
   ],
   "source": [
    "# define a class\n",
    "class Shape(object):\n",
    "    \n",
    "    # \"__new__\" method is omitted\n",
    "    \n",
    "    # initializer, \"self\" refers to the object itself\n",
    "    def __init__(self, color):  \n",
    "        # class variable is assigned with input value\n",
    "        self.color = color               \n",
    "        print('color is set to: ', self.color)\n",
    "        \n",
    "    # function (or method) of the class\n",
    "    # note the first argument referencing the class object \n",
    "    # must be there\n",
    "    def changeColor(x, newColor):   \n",
    "        x.color=newColor\n",
    "        return \"New color is \"+x.color\n",
    "    \n",
    "    # note \"self\" must be in every function of the class \n",
    "    \n",
    "# use the class\n",
    "# initiate a shape instance. \n",
    "# \"self\" in the class refers to \"myshape\"\n",
    "myshape=Shape('red') \n",
    "\n",
    "# call class attribute\n",
    "print(myshape.color)  \n",
    "\n",
    "# invoke class method \"changeColor\"\n",
    "print(myshape.changeColor('blue'))  \n",
    "\n",
    "# check what color the instance has\n",
    "print(myshape.color)  "
   ]
  },
  {
   "cell_type": "code",
   "execution_count": 5,
   "metadata": {},
   "outputs": [
    {
     "name": "stdout",
     "output_type": "stream",
     "text": [
      "color is set to:  green\n",
      "3.1416\n",
      "green\n"
     ]
    }
   ],
   "source": [
    "class Circle(Shape):\n",
    "    \n",
    "    def __init__(self, color, diameter):\n",
    "        \n",
    "        # call superclass' constructor\n",
    "        Shape.__init__(self, color)\n",
    "        \n",
    "        # initialize another variable\n",
    "        self.diameter = diameter\n",
    "    \n",
    "    # define a new function getArea \n",
    "    def getArea(self):\n",
    "        return (3.1416*self.diameter/2**2)\n",
    "    \n",
    "# use Square class\n",
    "my_circle = Circle('green', 4)\n",
    "\n",
    "# get square area\n",
    "print(my_circle.getArea())\n",
    "\n",
    "# get square color\n",
    "print(my_circle.color)"
   ]
  },
  {
   "cell_type": "code",
   "execution_count": null,
   "metadata": {},
   "outputs": [],
   "source": []
  }
 ],
 "metadata": {
  "kernelspec": {
   "display_name": "Python 3",
   "language": "python",
   "name": "python3"
  },
  "language_info": {
   "codemirror_mode": {
    "name": "ipython",
    "version": 3
   },
   "file_extension": ".py",
   "mimetype": "text/x-python",
   "name": "python",
   "nbconvert_exporter": "python",
   "pygments_lexer": "ipython3",
   "version": "3.7.4"
  }
 },
 "nbformat": 4,
 "nbformat_minor": 2
}
