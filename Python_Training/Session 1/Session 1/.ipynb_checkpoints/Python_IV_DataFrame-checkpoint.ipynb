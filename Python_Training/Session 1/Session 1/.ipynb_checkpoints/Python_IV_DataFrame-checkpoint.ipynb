{
 "cells": [
  {
   "cell_type": "markdown",
   "metadata": {},
   "source": [
    "# <center>Pandas DataFrames</center>\n",
    "References:\n",
    "* https://pandas.pydata.org/pandas-docs/stable/10min.html"
   ]
  },
  {
   "cell_type": "markdown",
   "metadata": {},
   "source": [
    "## 3. Pandas package and DataFrame\n",
    "- Next to Numpy, Pandas is one of the most widely used Python library\n",
    "- Two commonly used data structures:\n",
    "  * **Series**: a one-dimensional labeled array\n",
    "  * **DataFrame**: two-dimensional labeled data structure with columns\n",
    "- Labeling\n",
    "  * **index**: the name of each row\n",
    "  * **column name**: the name of each column\n",
    "- Data Frames behave very similar to your Excel tables"
   ]
  },
  {
   "cell_type": "markdown",
   "metadata": {},
   "source": [
    "### 3.1 Creating DataFrames and viewing data\n",
    "- Dataframes can be created from \n",
    "  * lists\n",
    "  * numpy arrays\n",
    "  * dictionaries"
   ]
  },
  {
   "cell_type": "code",
   "execution_count": null,
   "metadata": {
    "collapsed": true
   },
   "outputs": [],
   "source": [
    "# enable interactiveShell\n",
    "# so that Jupyter will display variables or \n",
    "# unassigned output of a statemen \n",
    "# without the need for a print statement\n",
    "\n",
    "from IPython.core.interactiveshell import InteractiveShell\n",
    "InteractiveShell.ast_node_interactivity = \"all\"\n",
    "\n",
    "import pandas as pd"
   ]
  },
  {
   "cell_type": "code",
   "execution_count": null,
   "metadata": {},
   "outputs": [],
   "source": [
    "# Exercise 3.1.1 Create a Pandas series\n",
    "\n",
    "\n",
    "# create a series from a list \n",
    "# or a one-dimensional array\n",
    "s=pd.Series(['01','02','10','50','30'])\n",
    "s"
   ]
  },
  {
   "cell_type": "code",
   "execution_count": null,
   "metadata": {},
   "outputs": [],
   "source": [
    "# Exercise 3.1.2 Create a Pandas dataframe\n",
    "\n",
    "import numpy as np\n",
    "\n",
    "# create a dataframe from a random array\n",
    "# note the labels for rows (index) and columns names\n",
    "df = pd.DataFrame(np.random.randint(60,100, (5,4)), \\\n",
    "                  index=s, columns=['A','B','C','D'])\n",
    "df\n",
    "# get first two rows\n",
    "df.head(2)\n",
    "\n",
    "# get last three rows\n",
    "df.tail(3)\n",
    "\n",
    "# get a column \n",
    "df.A  # OR df['A']\n",
    "\n",
    "# a column a series with same index"
   ]
  },
  {
   "cell_type": "code",
   "execution_count": null,
   "metadata": {},
   "outputs": [],
   "source": [
    "# Exercise 3.1.3. add new columns\n",
    "\n",
    "# add a new column \"E\"\n",
    "df[\"DEPT\"]=['CS','BIA','IS','BIA','BIA']\n",
    "df"
   ]
  },
  {
   "cell_type": "code",
   "execution_count": null,
   "metadata": {},
   "outputs": [],
   "source": [
    "# Exercise 3.1.4. View DataFrame index, columns, and values\n",
    "\n",
    "# df index\n",
    "print(\"df index\")\n",
    "df.index\n",
    "\n",
    "print(\"\\ndf column names\")\n",
    "df.columns\n",
    "\n",
    "print(\"\\ndf values\")\n",
    "df.values\n",
    "type(df.values) # values are numpy array\n",
    "df.values.shape # shape of the array"
   ]
  },
  {
   "cell_type": "code",
   "execution_count": null,
   "metadata": {},
   "outputs": [],
   "source": [
    "# Exercise 3.1.5. Show statistics of each column\n",
    "\n",
    "df.describe()"
   ]
  },
  {
   "cell_type": "code",
   "execution_count": null,
   "metadata": {},
   "outputs": [],
   "source": [
    "# Exercise 3.1.6. Transporting dataframe\n",
    "\n",
    "df.T\n"
   ]
  },
  {
   "cell_type": "code",
   "execution_count": null,
   "metadata": {},
   "outputs": [],
   "source": [
    "# Exercise 3.1.7. Create a dataframe\n",
    "\n",
    "x=[(1, 0.8, 'NJ'), (3, 0.7, 'NY'), (2, 0.65, 'PA'),(3, 0.25, 'PA'), \\\n",
    "   (2, 0.32, 'NJ'),(4, 0.95, 'PA'),(1, 0.44, 'NY'), (4, 0.15, 'NY')]\n",
    "\n",
    "# Create a dataframe from the list of tuples (quarter, income, state)\n",
    "\n",
    "# show statistics of income column\n"
   ]
  },
  {
   "cell_type": "markdown",
   "metadata": {},
   "source": [
    "### 3.2. DataFrame Sorting\n",
    "- Dataframes can be sorted by\n",
    "  * index\n",
    "  * one or more columns"
   ]
  },
  {
   "cell_type": "code",
   "execution_count": null,
   "metadata": {},
   "outputs": [],
   "source": [
    "# Exercise 3.2.1. Sorting\n",
    "\n",
    "# sort by index\n",
    "print(\"sort by index labels\")\n",
    "df.sort_index(axis=0, ascending=False)\n",
    "\n",
    "# sort by column names\n",
    "print(\"\\nsort by column names\")\n",
    "df.sort_index(axis=1, ascending=False)"
   ]
  },
  {
   "cell_type": "code",
   "execution_count": null,
   "metadata": {},
   "outputs": [],
   "source": [
    "# sort the values by specifc columns\n",
    "# to sort by A  use by='A'\n",
    "# for multiple columns, use a list\n",
    "print(\"\\nsort the values by column A\")\n",
    "df.sort_values(by='A', ascending=False)\n",
    "\n",
    "print(\"\\nsort the values by columns DEPT and A\")\n",
    "df.sort_values(by=['DEPT','A'], ascending=[True, False])"
   ]
  },
  {
   "cell_type": "code",
   "execution_count": null,
   "metadata": {},
   "outputs": [],
   "source": [
    "# Exercise 3.2.2. Sort the values in the \n",
    "# dataframe you created in 3.1.7\n",
    "# first by state in ascending order, \n",
    "# then by quarter in decending order\n",
    "\n",
    "x=[(1, 0.8, 'NJ'), (3, 0.7, 'NY'), (2, 0.65, 'PA'),(3, 0.25, 'PA'), \\\n",
    "   (2, 0.32, 'NJ'),(4, 0.95, 'PA'),(1, 0.44, 'NY'), (4, 0.15, 'NY')]\n",
    "\n",
    "\n",
    "p=pd.DataFrame(x, columns=[\"quarter\", \"income\", \"state\"])\n"
   ]
  },
  {
   "cell_type": "markdown",
   "metadata": {},
   "source": [
    "### 3.3 Value Selection\n",
    "- Values can be selected by\n",
    "  * column names\n",
    "  * index labels (**loc** property)\n",
    "  * index position (**iloc** property)\n",
    "  * indexes and columns together\n",
    "  * conditions (boolean index)"
   ]
  },
  {
   "cell_type": "code",
   "execution_count": null,
   "metadata": {},
   "outputs": [],
   "source": [
    "# Exercise 3.3.1 Selecting columns\n",
    "\n",
    "# get a specifc column\n",
    "print(\"get a specifc column\")\n",
    "df['A']\n",
    "df.A\n",
    "\n",
    "# get multiple columns\n",
    "print(\"\\nget multiple columns\")\n",
    "df[['A','C']]"
   ]
  },
  {
   "cell_type": "code",
   "execution_count": null,
   "metadata": {},
   "outputs": [],
   "source": [
    "# Exercise 3.3.2 select rows by index\n",
    "\n",
    "# get a specific row by index\n",
    "print(\"get first row by index label\")\n",
    "df.loc['01']\n",
    "\n",
    "# get multiple rows by index list\n",
    "print(\"get multiple rows by index list\")\n",
    "df.loc[['01','10']]\n",
    "\n"
   ]
  },
  {
   "cell_type": "code",
   "execution_count": null,
   "metadata": {},
   "outputs": [],
   "source": [
    "# Exercise 3.3.3. select rows by position\n",
    "\n",
    "# select the first row by position\n",
    "print(\"\\select the first row by position\")\n",
    "df.iloc[0]\n",
    "\n",
    "# select the first two rows by position\n",
    "print(\"\\nselect the first two rows by position list\")\n",
    "df.iloc[0:2]"
   ]
  },
  {
   "cell_type": "code",
   "execution_count": null,
   "metadata": {
    "collapsed": true
   },
   "outputs": [],
   "source": [
    "# Exercise 3.3.4. select on multiple axes\n",
    "\n",
    "# select the 1st and 3rd row, 3rd and 4th columns\n",
    "\n",
    "print(df.loc[['01','10'], ['C','D']])\n",
    "df.iloc[[0,2], 2:4]"
   ]
  },
  {
   "cell_type": "code",
   "execution_count": null,
   "metadata": {},
   "outputs": [],
   "source": [
    "# Exercise 3.3.5. \n",
    "\n",
    "# Select last three rows, 2nd and 5th columns\n"
   ]
  },
  {
   "cell_type": "code",
   "execution_count": null,
   "metadata": {},
   "outputs": [],
   "source": [
    "# Exercise 3.3.6. Select by condition (Boolean index)\n",
    "\n",
    "# get data greater than -1\n",
    "print(\"Get data greater than -1\")\n",
    "df[df.A>-1]\n",
    "\n",
    "# get data where A>0 and E=0\n",
    "# don't forget the parentheses around each condition\n",
    "# also note \"&\", not \"and\"\n",
    "print(\"Get data where A>0 and DEPT='BIA'\")\n",
    "df[(df.A>0) & (df.DEPT=='BIA')]\n",
    "\n",
    "# condition on index \n",
    "# note the **isin** function to select a range\n",
    "print(\"Rows with index in ['01','10','20'] and B>0\")\n",
    "df[(df.index.isin(['01','10','20'])) & (df.B>70)]"
   ]
  },
  {
   "cell_type": "code",
   "execution_count": null,
   "metadata": {},
   "outputs": [],
   "source": [
    "# Exercise 3.3.6. From the dataframe you created in 3.1.7\n",
    "import pandas as pd\n",
    "x=[(1, 0.8, 'NJ'), (3, 0.7, 'NY'), (2, 0.65, 'PA'),(3, 0.25, 'PA'), \\\n",
    "   (2, 0.32, 'NJ'),(4, 0.95, 'PA'),(1, 0.44, 'NY'), (4, 0.15, 'NY')]\n",
    "\n",
    "y=pd.DataFrame(x, columns=['quarter', 'income','state'])\n",
    "\n",
    "# 1. select the rows for states NJ and NY and income>0.5\n"
   ]
  },
  {
   "cell_type": "markdown",
   "metadata": {},
   "source": [
    "### 3.4.  Aggregation \n",
    "- Dataframes can support aggregation by groups very flexibly\n",
    "  * count\n",
    "  * mean\n",
    "  * sum\n",
    "  * custom function"
   ]
  },
  {
   "cell_type": "code",
   "execution_count": null,
   "metadata": {},
   "outputs": [],
   "source": [
    "# Exercise 3.4.1 value counts \n",
    "# get counts of each value in a column\n",
    "df\n",
    "df.DEPT.value_counts()"
   ]
  },
  {
   "cell_type": "code",
   "execution_count": null,
   "metadata": {},
   "outputs": [],
   "source": [
    "# Exercise 3.4.2 group by a column and aggregate\n",
    "\n",
    "grouped=df.groupby('DEPT')\n",
    "grouped.size()  # get number of rows in each group\n",
    "grouped.sum()   # sum by group\n",
    "grouped.mean()  # mean by group"
   ]
  },
  {
   "cell_type": "code",
   "execution_count": null,
   "metadata": {},
   "outputs": [],
   "source": [
    "# Exercise 3.4.3 multiple aggregation function\n",
    "\n",
    "grouped= df.groupby('DEPT')\n",
    "grouped['A'].agg([np.sum, np.mean, np.std])"
   ]
  },
  {
   "cell_type": "code",
   "execution_count": null,
   "metadata": {},
   "outputs": [],
   "source": [
    "# Exercise 3.4.4 grouped by multiple columns \n",
    "\n",
    "df['PRG']=['graduate','undergraduate','undergraduate',\\\n",
    "           'graduate','graduate']\n",
    "\n",
    "df\n",
    "grouped= df.groupby(['DEPT','PRG'])\n",
    "grouped.mean()\n",
    "\n",
    "# note that the groupby columns are \n",
    "# indexes now\n",
    "\n",
    "# to remove multi-indexes\n",
    "grouped.mean().reset_index()\n"
   ]
  },
  {
   "cell_type": "markdown",
   "metadata": {},
   "source": [
    "### 3.5.  Pivot Table and Cross Tabulation\n",
    "- Pivot tables or cross tables can be computed easily with pandas\n",
    "- pivot_table: Calculate pivot tables from a data frame\n",
    "- crosstab: cross tabulation using any array-like objects (e.g. array, dataframe) \n",
    "- Difference between functions pivot_table and cross tabulation\n",
    "  * pivot_table expects input data to be ** a DataFrame**; \n",
    "  * crosstab can use array-like data objects, not necessarily dataframes.\n",
    "  * for pivot_table, the default aggregation function is **mean**, while for crosstab, the default aggregation function is **count**\n",
    "- **pivot tables and cross tables are also dataframes**"
   ]
  },
  {
   "cell_type": "code",
   "execution_count": null,
   "metadata": {},
   "outputs": [],
   "source": [
    "# Exercise 3.5.1 Pivot table\n",
    "# for details, see https://pandas.pydata.org/pandas-docs/stable/generated/pandas.pivot_table.html\n",
    "\n",
    "# parameters: \n",
    "# data: data source, \n",
    "# values: columns to be aggregated, use a list for multiple columns\n",
    "# index: keys to group by as pivot table index (row)\n",
    "# column: keys to group by as pivot table column\n",
    "# aggfunc: aggregration function. default is mean\n",
    "\n",
    "# Get mean of column A for students in each DEPT and PRG\n",
    "pd.pivot_table(data=df, values=['A'], index='DEPT', \\\n",
    "               columns='PRG')\n",
    "\n",
    "# Pivot by multiple rows or columns\n",
    "\n",
    "# create a new column\n",
    "df[\"G\"]=['F','M','F','F','M']\n",
    "pd.pivot_table(data=df, values=['A'], \\\n",
    "    index=['DEPT','G'], columns=['PRG'], aggfunc=np.max)"
   ]
  },
  {
   "cell_type": "code",
   "execution_count": null,
   "metadata": {},
   "outputs": [],
   "source": [
    "# 3.5.2. Get a cross table from a dataframe\n",
    "\n",
    "# for details, check\n",
    "# https://pandas.pydata.org/pandas-docs/stable/generated/pandas.crosstab.html\n",
    "# parameters: \n",
    "\n",
    "# index: keys to group by as pivot table index (row)\n",
    "# columns: keys to group by as pivot table column\n",
    "# values: columns to be aggregated\n",
    "# aggfunc: aggregration function. default is count\n",
    "\n",
    "# count the students in each DEPT and each PRG\n",
    "pd.crosstab(index=df.DEPT, columns=df.PRG)\n",
    "\n",
    "# multiple index\n",
    "pd.crosstab(index=[df.DEPT, df.G], columns=df.PRG)\n",
    "\n",
    "# Mean of Course A for each DEPT and PRG\n",
    "pd.crosstab(index=df.DEPT, columns=[df.PRG], values=df.A, \\\n",
    "            aggfunc=np.mean )"
   ]
  },
  {
   "cell_type": "code",
   "execution_count": null,
   "metadata": {},
   "outputs": [],
   "source": [
    "# 3.5.3. Get a cross table from arrays \n",
    "x=np.array([[1,2,10],[3,4,8],[2,2,3],[3,1,4],[1,2,2]])\n",
    "\n",
    "# count of cells by columns 1 and 2\n",
    "pd.crosstab(index=x[:,0], columns=x[:,1],\n",
    "           rownames='A', colnames='B')\n",
    "\n",
    "# sum of column 3 by columns 1 and 2\n",
    "pd.crosstab(index=x[:,0], columns=x[:,1], \\\n",
    "            values=x[:,2], aggfunc=np.sum, \\\n",
    "            rownames='A', colnames='B' )"
   ]
  },
  {
   "cell_type": "code",
   "execution_count": null,
   "metadata": {
    "collapsed": true
   },
   "outputs": [],
   "source": [
    "# Exercise 3.5.4. group the dataframe you created in 3.1.7\n",
    "\n",
    "# 1. get the mean and std of income by each state and flatten the index\n",
    "\n",
    "x=[(2016, 0.8, 'NJ'), (2017, 0.7, 'NY'), (2016, 0.65, 'PA'),(2016, 0.25, 'PA'), \\\n",
    "   (2016, 0.32, 'NJ'),(2017, 0.95, 'PA'),(2017, 0.44, 'NY'), (2017, 0.15, 'NY')]\n",
    "\n",
    "s=pd.DataFrame(x, columns=['year','income', 'state'])\n",
    "\n",
    "# 2. sum income by year and state in a pivot table\n",
    "\n",
    "\n",
    "# 3. get average of income by year and state in a cross/pivot table\n"
   ]
  },
  {
   "cell_type": "markdown",
   "metadata": {},
   "source": [
    "### 3.6. Apply function to each row or each column of a dataframe\n",
    "- The apply function takes each row (axis=1) or each column (axis=0) of the dataframe as an input\n",
    "- Often **lambda** function (i.e. anonymous function, function without a name) is used\n",
    "   * lambda function: *<font color='green'>lambda x : expression of x </font>*\n",
    "   * it can be understood as: *<font color='green'> for x, return expression of x </font>*"
   ]
  },
  {
   "cell_type": "code",
   "execution_count": null,
   "metadata": {},
   "outputs": [],
   "source": [
    "# Exercise 3.6.1\n",
    "# Find the percentage of column A \n",
    "# in the sum of columns A-D for each row\n",
    "# i.e. normalize by row\n",
    "\n",
    "df['A_PERC']=df[['A','B','C','D']].apply(lambda row: \\\n",
    "        row[\"A\"]/(sum(row)), axis=1)\n",
    "df\n",
    "\n",
    "# For each column, find the percentage of \n",
    "# each value in the sum of the column\n",
    "# i.e. normalize by column\n",
    "df1=df[['A','B','C','D']].apply(lambda col: col/sum(col), axis=0)\n",
    "\n",
    "df1"
   ]
  },
  {
   "cell_type": "code",
   "execution_count": null,
   "metadata": {},
   "outputs": [],
   "source": [
    "# more about lambda: a function without name\n",
    "\n",
    "# note the lambda function cannot be used \n",
    "# outside of the apply statement\n",
    "df1=df[['A','B','C','D']].apply(lambda col: col/sum(col), axis=0)\n",
    "\n",
    "# you can also assign it to a variable \n",
    "# (which is the function name!)\n",
    "t=lambda x: x*2\n",
    "type(t)\n",
    "t(20)"
   ]
  },
  {
   "cell_type": "markdown",
   "metadata": {},
   "source": [
    "### 3.7.  DataFrame concatenate and join\n",
    "- Dataframes can flexibly concatenated or joined"
   ]
  },
  {
   "cell_type": "code",
   "execution_count": null,
   "metadata": {},
   "outputs": [],
   "source": [
    "# Exercise 3.7.1  Concatenate two dateframes\n",
    "df1 = pd.DataFrame(np.random.randint(0,10, size=(3,2)), \\\n",
    "                   columns=['A','B'])\n",
    "df1\n",
    "\n",
    "df2 = pd.DataFrame(np.random.randint(0,10, size=(4,2)), \\\n",
    "                   columns=['A','C'])\n",
    "df2\n",
    "\n",
    "# Concatenate two dataframes\n",
    "pd.concat([df1, df2])\n",
    "\n",
    "# the new dataframe will have columns A,B,C\n",
    "# but some portion is NaN (Null)"
   ]
  },
  {
   "cell_type": "code",
   "execution_count": null,
   "metadata": {
    "collapsed": true
   },
   "outputs": [],
   "source": [
    "# Exercise 3.5.2  Merge two dateframes \n",
    "# on common columns\n",
    "pd.merge(df1, df2, on='A')"
   ]
  },
  {
   "cell_type": "markdown",
   "metadata": {},
   "source": [
    "### 3.8. Getting Data In/Out"
   ]
  },
  {
   "cell_type": "code",
   "execution_count": null,
   "metadata": {},
   "outputs": [],
   "source": [
    "# Exercise 3.8.1  getting data in/out \n",
    "\n",
    "# write dataframe to a csv with header without index\n",
    "df.to_csv('foo.csv', header=True, index=False)\n",
    "\n",
    "# read a csv file to a dataframe\n",
    "# use the first row as header\n",
    "data=pd.read_csv('foo.csv', header=0)\n",
    "data\n",
    "\n",
    "# convert data to a list\n",
    "data_list=data.values.tolist()\n",
    "data_list"
   ]
  },
  {
   "cell_type": "code",
   "execution_count": null,
   "metadata": {
    "collapsed": true
   },
   "outputs": [],
   "source": []
  }
 ],
 "metadata": {
  "kernelspec": {
   "display_name": "Python 3",
   "language": "python",
   "name": "python3"
  },
  "language_info": {
   "codemirror_mode": {
    "name": "ipython",
    "version": 3
   },
   "file_extension": ".py",
   "mimetype": "text/x-python",
   "name": "python",
   "nbconvert_exporter": "python",
   "pygments_lexer": "ipython3",
   "version": "3.6.7"
  }
 },
 "nbformat": 4,
 "nbformat_minor": 2
}
