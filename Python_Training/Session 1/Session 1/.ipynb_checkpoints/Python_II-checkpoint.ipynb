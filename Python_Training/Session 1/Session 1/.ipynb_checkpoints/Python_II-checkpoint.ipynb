{
 "cells": [
  {
   "cell_type": "markdown",
   "metadata": {},
   "source": [
    "# <center>Introduction to Python (II)</center>\n",
    "\n",
    "Refereces: \n",
    "- https://www.tutorialspoint.com/python"
   ]
  },
  {
   "cell_type": "markdown",
   "metadata": {},
   "source": [
    "## 6. Control Flows: if, if...else, for, while"
   ]
  },
  {
   "cell_type": "markdown",
   "metadata": {},
   "source": [
    "### 6.1. if and if...else, if...elif...else statements ###"
   ]
  },
  {
   "cell_type": "code",
   "execution_count": 16,
   "metadata": {},
   "outputs": [
    {
     "name": "stdout",
     "output_type": "stream",
     "text": [
      "the value of x >= 50\n",
      "done!\n",
      "the value of x < 200\n",
      "the value of x >= 50 and <200\n",
      "the value of x >= 200 and x<y\n"
     ]
    }
   ],
   "source": [
    "# Exercise 6.1.1: if and if...else, if...elif...else statements\n",
    "\n",
    "x=100\n",
    "\n",
    "# simple if statement\n",
    "# each control line must end with colon (:) \n",
    "if x>=50:   \n",
    "    # each line in the block should be \n",
    "    # indented with the same amount                                  \n",
    "    print (\"the value of x >= 50\")   \n",
    "    print(\"done!\")\n",
    "\n",
    "# if...else statement\n",
    "if x>=200:\n",
    "    print (\"the value of x >= 200\")\n",
    "else:\n",
    "    print (\"the value of x < 200\")\n",
    "\n",
    "# if...elif...else statement\n",
    "if x>=200:\n",
    "    print (\"the value of x >= 200\")\n",
    "elif x>=50:\n",
    "    print (\"the value of x >= 50 and <200\")\n",
    "else:\n",
    "    print (\"the value of x < 50\")\n",
    "    \n",
    "# nested statements\n",
    "x=300\n",
    "y=500\n",
    "if x>=200:\n",
    "    \n",
    "    # inner \"if\" and \"else\" need to indent the same amount\n",
    "    if x>=y:                                                 \n",
    "        print (\"the value of x >= 200 and x>=y\")\n",
    "    else:\n",
    "        print (\"the value of x >= 200 and x<y\")\n",
    "else:\n",
    "    print (\"the value of x < 200\")"
   ]
  },
  {
   "cell_type": "code",
   "execution_count": 4,
   "metadata": {},
   "outputs": [
    {
     "name": "stdout",
     "output_type": "stream",
     "text": [
      "{'python': 1, 'block': 3, 'indent': 5, 'control': 1}\n"
     ]
    }
   ],
   "source": [
    "# Exercise 6.1.2: use \"if...else...\" to \n",
    "# add new entries to a dictionary\n",
    "\n",
    "word_count_dict={\"python\":1,\"block\":3, \"indent\":5}\n",
    "new_word=\"control\"\n",
    "\n",
    "\n",
    "# if new_word is a key of word_count_dict,\n",
    "# increase this word's count by 1;\n",
    "# otherwise, add a new key in word_count_dict, and\n",
    "# set the value of this new key to 1\n",
    "\n",
    "if new_word in word_count_dict:\n",
    "    word_count_dict[new_word]+=1\n",
    "else:\n",
    "    word_count_dict[new_word]=1\n",
    "\n",
    "print(word_count_dict)\n",
    "\n",
    "\n"
   ]
  },
  {
   "cell_type": "markdown",
   "metadata": {},
   "source": [
    "### 6.2. Loop statements: while, for ###"
   ]
  },
  {
   "cell_type": "code",
   "execution_count": 7,
   "metadata": {},
   "outputs": [
    {
     "name": "stdout",
     "output_type": "stream",
     "text": [
      "1\n",
      "2\n",
      "3\n",
      "4\n"
     ]
    }
   ],
   "source": [
    "# Exercise 6.2.1: simple while loop\n",
    "\n",
    "x=1\n",
    "# in each round, the condition following 'while' is evaluated       \n",
    "while x<5:    \n",
    "    # continue the block if the conidtion is true  \n",
    "    print(x)\n",
    "    x+=1"
   ]
  },
  {
   "cell_type": "code",
   "execution_count": 12,
   "metadata": {},
   "outputs": [
    {
     "name": "stdout",
     "output_type": "stream",
     "text": [
      "[1]\n",
      "[1, 4]\n",
      "[1, 4, 9]\n",
      "[1, 4, 9, 16]\n",
      "[1, 4, 9, 16, 25]\n",
      "[1, 4, 9, 16, 25]\n",
      "Square of each element in [1:6]: [1, 4, 9, 16, 25]\n"
     ]
    }
   ],
   "source": [
    "# Exercise 6.2.2.: for loop through a list\n",
    "\n",
    "## what if you wanted to loop through a list that was already made?\n",
    "# initiate an empty list\n",
    "list1=[]  \n",
    "\n",
    "# loop through any iterable object, e.g. \n",
    "# list, tuple, set, dictionary\n",
    "for x in range(1,6):    \n",
    "    # append x**2 to the list\n",
    "    list1.append(x**2)\n",
    "    print (list1)\n",
    "print (list1)\n",
    "    \n",
    "# A compact ways to use for loop in assigment\n",
    "list1=[x**2 for x in range(1,6)]\n",
    "print (\"Square of each element in [1:6]:\", list1)\n"
   ]
  },
  {
   "cell_type": "code",
   "execution_count": 23,
   "metadata": {},
   "outputs": [
    {
     "name": "stdout",
     "output_type": "stream",
     "text": [
      "[(0, 3), (1, 5), (2, 2), (3, 4), (4, 1)]\n",
      "0 : 3\n",
      "1 : 5\n",
      "2 : 2\n",
      "3 : 4\n",
      "4 : 1\n",
      "[(0, 3), (1, 5), (2, 2), (3, 4), (4, 1)]\n",
      "index and value of each element in the list as a new list of tuple :\n",
      " [(0, 3), (1, 5), (2, 2), (3, 4), (4, 1)]\n",
      "index and squared value of each element in the list as a new list of tuple :\n",
      " [(0, 9), (1, 25), (2, 4), (3, 16), (4, 1)]\n"
     ]
    }
   ],
   "source": [
    "# Exercise 6.2.3.:  Get index of each element during loop\n",
    "\n",
    "list1=[3,5,2,4,1]\n",
    "\n",
    "# enumerate(list1) converts a sequence to an iterator \n",
    "# which returns a tuple at a time\n",
    "# starting from (0, list1[0]), (1, list1[1]), ... to the end\n",
    "# where 0,1, .. is the index if each element in list1\n",
    "\n",
    "list2=[(idx,x) for idx,x in enumerate(list1) ]  \n",
    "print(list2)\n",
    "\n",
    "list_trial = []\n",
    "for index, values in enumerate(list1):\n",
    "        print (index, \":\", values)\n",
    "        list_trial.append((index,values))\n",
    "print(list_trial)\n",
    "\n",
    "#Questions: how to get elements if their indexs > 2 ; \n",
    "[(idx,x) for idx,x in enumerate(list1) if idx>2 ] \n",
    "\n",
    "# how to get elements with even indexes?\n",
    "[(idx,x) for idx,x in enumerate(list1) if idx%2==0 ] \n",
    "\n",
    "# how to show indexes starting from 1, not 0?\n",
    "[(idx+1,x) for idx,x in enumerate(list1)]\n",
    "\n",
    "list2=[(item[0],item[1]) for item in enumerate(list1)]  \n",
    "print(\"index and value of each element \\\n",
    "in the list as a new list of tuple :\\n\", list2)\n",
    "\n",
    "list3=[(idx,x**2) for idx,x in enumerate(list1)]   \n",
    "                                                                                                                \n",
    "print(\"index and squared value of each element \\\n",
    "in the list as a new list of tuple :\\n\", list3)"
   ]
  },
  {
   "cell_type": "code",
   "execution_count": 7,
   "metadata": {},
   "outputs": [
    {
     "name": "stdout",
     "output_type": "stream",
     "text": [
      "\n",
      "get each **positive** element and its index in the list as a list of tuple\n",
      "[(1, 5), (3, 3), (5, 12), (6, 1), (7, 8)]\n"
     ]
    }
   ],
   "source": [
    "# Exercise 6.2.4.: # Cobmine for loop with if statement\n",
    "\n",
    "list3=[(idx,x) for idx,x in enumerate([-2,5,-9,3,-4,12,1,8]) \\\n",
    "       if x>0]\n",
    "\n",
    "print(\"\\nget each **positive** element and its index \\\n",
    "in the list as a list of tuple\")\n",
    "print (list3)\n",
    "\n"
   ]
  },
  {
   "cell_type": "code",
   "execution_count": 24,
   "metadata": {},
   "outputs": [
    {
     "name": "stdout",
     "output_type": "stream",
     "text": [
      "[0, 3, 5]\n",
      "['b', 'c', 'd']\n"
     ]
    }
   ],
   "source": [
    "# Exercise 6.2.5.: Find the index of a repeated value\n",
    "\n",
    "list1=['a','b','c','a','d','a']\n",
    "\n",
    "# task 1: find the indexes of all \"a\"\n",
    "print([ idx for idx, x in enumerate(list1) if x=='a'])\n",
    "\n",
    "# task 2: remove all \"a\" from list1\n",
    "#         hint: you can create a new list to \n",
    "#         hold all values without \"a\"\n",
    "\n",
    "print([ x for x in list1 if x!='a'])\n",
    "\n"
   ]
  },
  {
   "cell_type": "code",
   "execution_count": 9,
   "metadata": {},
   "outputs": [
    {
     "name": "stdout",
     "output_type": "stream",
     "text": [
      "\n",
      "get the keys in the dictionary as a list\n",
      "[1, 2, 3, 4, 5]\n",
      "\n",
      "get the values in the dictionary as a list\n",
      "['a', 'b', 'c', 'd', 'e']\n"
     ]
    }
   ],
   "source": [
    "# Exercise 6.2.6.: loop through the the dictionary\n",
    "\n",
    "dict1={1: 'a', 2:\"b\", 3:\"c\", 4:\"d\", 5:\"e\"}\n",
    "\n",
    "keys=[x for x in dict1]                             \n",
    "# loop through each key of a dictionary\n",
    "# This is equivalent to dict1.keys()\n",
    "print(\"\\nget the keys in the dictionary as a list\")\n",
    "print (keys)\n",
    "\n",
    "print(\"\\nget the values in the dictionary as a list\")\n",
    "values=[dict1[x] for x in dict1]                     \n",
    "# loop through each key and then get the value through key\n",
    "# this is equivalent to dict1.values()\n",
    "print (values)"
   ]
  },
  {
   "cell_type": "code",
   "execution_count": 10,
   "metadata": {},
   "outputs": [
    {
     "name": "stdout",
     "output_type": "stream",
     "text": [
      "{1: 1, 3: 3, 2: 1, 4: 2}\n",
      "{1: 1, 2: 1, 3: 3, 4: 2}\n"
     ]
    }
   ],
   "source": [
    "# Exercise 6.2.7.: Use loop to create a dictionary\n",
    "\n",
    "list1=[1,3,2,3,4,3,4]\n",
    "\n",
    "# get the count of each number as a dictionary\n",
    "# hint: you can reuse your solution to Exercise 6.1.2 \n",
    "counts={}\n",
    "for x in list1:\n",
    "    if x in counts:\n",
    "        counts[x]+=1\n",
    "    else:\n",
    "        counts[x]=1\n",
    "\n",
    "print(counts)\n",
    "\n",
    "# any compact way to achieve this?\n",
    "print({x:list1.count(x) for x in set(list1)})"
   ]
  },
  {
   "cell_type": "code",
   "execution_count": 13,
   "metadata": {},
   "outputs": [
    {
     "name": "stdout",
     "output_type": "stream",
     "text": [
      "\n",
      "nested loops\n",
      "1.2\n",
      "3.5\n",
      "2.4\n",
      "7.0\n",
      "[1.2, 3.5, 2.4, 7.0]\n"
     ]
    }
   ],
   "source": [
    "# Exercise 6.2.8.: nested loops\n",
    "\n",
    "print(\"\\nnested loops\")\n",
    "for x in range(1,3):    \n",
    "    for y in [1.2, 3.5]:\n",
    "        print (x*y)\n",
    "\n",
    "# a compact way to nest loops\n",
    "xy=[x*y for x in range(1,3) for y in [1.2, 3.5]]    \n",
    "\n",
    "print (xy)"
   ]
  },
  {
   "cell_type": "markdown",
   "metadata": {},
   "source": [
    "### 6.3. Loop Control Statements ###\n",
    "*  **break**: terminates the loop and executes the statement immediately following the loop\n",
    "*  **continue**: causes the loop to skip the rest of its body and immediately starts another round"
   ]
  },
  {
   "cell_type": "code",
   "execution_count": 14,
   "metadata": {},
   "outputs": [
    {
     "name": "stdout",
     "output_type": "stream",
     "text": [
      "[1, 4, 9, 16, 25]\n",
      "[1, 4, 9, 16]\n"
     ]
    }
   ],
   "source": [
    "# Exercise 6.3.1.: break control\n",
    "\n",
    "list1=[]   \n",
    "list2=[]\n",
    "for x in range(1,8):  \n",
    "    list1.append(x**2)\n",
    "    # break if x**2 is greater than 20\n",
    "    if x**2>20:                 \n",
    "        break\n",
    "    list2.append(x**2)  \n",
    "\n",
    "# list1 has 25 (i.e. x=5) appended before the break\n",
    "print (list1)           \n",
    "\n",
    "# list2 does not have 25 since \"break\" happened before \"append\"\n",
    "print (list2)                    "
   ]
  },
  {
   "cell_type": "code",
   "execution_count": 30,
   "metadata": {},
   "outputs": [
    {
     "name": "stdout",
     "output_type": "stream",
     "text": [
      "[1, 2, 3, 4, 5, 6, 7, 8, 9, 10, 11, 12, 13, 14]\n"
     ]
    }
   ],
   "source": [
    "# Exercise 6.3.2.: break if you get the value you need\n",
    "\n",
    "# Create a number series starting from 1, e.g. 1,2,3,..., 100\n",
    "# Fetch each number until the sum of all \n",
    "# the numbers you have reaches 100 (i.e. >=100).\n",
    "\n",
    "list3=[]\n",
    "y = 0\n",
    "for x in range (1,100):\n",
    "    list3.append(x)\n",
    "    y = y + x\n",
    "    #print(y)\n",
    "    if y >=100:\n",
    "        break\n",
    "\n",
    "print(list3)\n",
    "    "
   ]
  },
  {
   "cell_type": "code",
   "execution_count": 37,
   "metadata": {},
   "outputs": [
    {
     "name": "stdout",
     "output_type": "stream",
     "text": [
      "[1, 4, 9, 16, 25, 36, 49, 2, 4]\n",
      "[1, 4, 2, 4]\n"
     ]
    }
   ],
   "source": [
    "# Exercise 6.3.3: continue control\n",
    "\n",
    "list1=[]   \n",
    "list2=[]\n",
    "list_input = [1, 4, 9, 16, 25, 36, 49, 2 ,4]\n",
    "for x in list_input:  \n",
    "    list1.append(x)\n",
    "    # break if is greater than 5\n",
    "    if x>5:                  \n",
    "        continue\n",
    "    list2.append(x)  \n",
    "    \n",
    "# list1 has all 7 elements appended \n",
    "print (list1)   \n",
    "# list2 stopped growing before x=5 since \n",
    "# \"continue\" happened before \"append\"\n",
    "print (list2)                    \n"
   ]
  },
  {
   "cell_type": "markdown",
   "metadata": {},
   "source": [
    "## 7. Function\n",
    " - A blok of code that can be reused\n",
    " - Function blocks begin with the keyword **<font color=blue>def</font>** followed by the function name \n",
    " - Input parameters or arguments should be placed within parentheses ( ).\n",
    " - A default argument is an argument that assumes a default value if a value is not provided in the function call for that argument.\n",
    " - The code block starts with a colon (:) and is indented.\n",
    " - The statement **<font color=blue>return</font>** exits a function. A return statement with no arguments is the same as return None."
   ]
  },
  {
   "cell_type": "code",
   "execution_count": 13,
   "metadata": {},
   "outputs": [
    {
     "name": "stdout",
     "output_type": "stream",
     "text": [
      "32.22222222222222\n",
      "68.0\n",
      "[32.0, 77.0, 86.0]\n"
     ]
    }
   ],
   "source": [
    "# Exercise 7.1: Define a simple function  \n",
    "\n",
    "# define a converter between Fahrenheit and Celsius\n",
    "# t: the input temperature\n",
    "# F_or_C: whether t is in Fahrenheit or Celsius\n",
    "# the default value for F_or_C is \"C\"\n",
    "\n",
    "def temperature_converter(t, F_or_C='C'):\n",
    "    # initiate result variable to None \n",
    "    result=None\n",
    "    if F_or_C=='F':\n",
    "        result=(t-32)*5.0/9.0\n",
    "    else: \n",
    "        result=(t*9.0/5.0)+32\n",
    "    return result\n",
    "\n",
    "# call the function\n",
    "f_to_c=temperature_converter(90, 'F')\n",
    "print(f_to_c)\n",
    "\n",
    "# note 2nd parameter is omitted here\n",
    "c_to_f=temperature_converter(20)\n",
    "print(c_to_f)\n",
    "\n",
    "# call the function in a for loop\n",
    "c_to_f=[temperature_converter(c, 'C') for c in [0,25,30]]\n",
    "print(c_to_f)"
   ]
  },
  {
   "cell_type": "code",
   "execution_count": 20,
   "metadata": {},
   "outputs": [
    {
     "name": "stdout",
     "output_type": "stream",
     "text": [
      "[1, 3]\n"
     ]
    }
   ],
   "source": [
    "# Exercise 7.2.: Define a function to\n",
    "# remove all occurrences of a value from a list \n",
    "# Requirements:\n",
    "# 1. two input parameters, a list and a value\n",
    "# 2. return a list that does not contain the value\n",
    "#    e.g. if inputs are [1,3,2,2] and 2, the return\n",
    "#    should be [1,3]\n",
    "\n",
    "def remove_all(aList, value):\n",
    "    return [x for x in aList if x!=value]\n",
    "\n",
    "input_list = [1,3,2,2]\n",
    "output_list = remove_all(input_list, 2)\n",
    "print(output_list) \n"
   ]
  },
  {
   "cell_type": "code",
   "execution_count": null,
   "metadata": {
    "collapsed": true
   },
   "outputs": [],
   "source": [
    "# Is it possible to do in this way:\n",
    "\n",
    "def remove_all(aList, v):\n",
    "    for x in aList:\n",
    "        if x==v:\n",
    "            aList.remove(v)\n",
    "    return aList\n",
    "\n",
    "# try this:\n",
    "L=[1,3,2,2]\n",
    "print(\"remove 3: \", remove_all(L,3))\n",
    "\n",
    "L=[1,3,2,2]\n",
    "print(\"remove 2: \", remove_all(L,2))\n"
   ]
  },
  {
   "cell_type": "markdown",
   "metadata": {},
   "source": [
    "### 7.1. Global vs. Local variables ###\n",
    "* **Local variables**: \n",
    "   * Variables defined inside a function body have a local scope \n",
    "   * Local variables are accessed only inside the function\n",
    "* **Global variables**: \n",
    "   * Variables defined outside of a function have a global scope\n",
    "   * Global variables are accessed (read) throughout the program body by all functions\n"
   ]
  },
  {
   "cell_type": "code",
   "execution_count": 21,
   "metadata": {},
   "outputs": [
    {
     "name": "stdout",
     "output_type": "stream",
     "text": [
      "Inside the function local total :  30\n",
      "Outside the function global total :  10\n"
     ]
    }
   ],
   "source": [
    "# Exercise 7.1.1.: local vs. global variables\n",
    "\n",
    "total=10  # global variable\n",
    "\n",
    "def sum( arg1, arg2 ):\n",
    "    # Here define a local variable also named with \"total\"\n",
    "    # Although with the same variable names, they are two different variables\n",
    "    total = arg1 + arg2 \n",
    "    print (\"Inside the function local total : \", total)\n",
    "    return total;\n",
    "\n",
    "# Now you can call sum function\n",
    "sum( 10, 20 );\n",
    "print (\"Outside the function global total : \", total) \n"
   ]
  },
  {
   "cell_type": "code",
   "execution_count": 22,
   "metadata": {},
   "outputs": [
    {
     "name": "stdout",
     "output_type": "stream",
     "text": [
      "sum with global_total:  40\n",
      "Inside the function local total :  30\n",
      "global_total outside the function  :  10\n"
     ]
    }
   ],
   "source": [
    "# Exercise 7.1.2.: You can read global variables inside a function\n",
    "\n",
    "global_total = 10  # global variable\n",
    "\n",
    "def sum( arg1, arg2 ):\n",
    "    total = arg1 + arg2 # Here total is local variable.\n",
    "    \n",
    "    # sum \"global_total\" with \"total\" and save it to a new \n",
    "    # variable \"grand_total\"\n",
    "    \n",
    "    grand_total = global_total + total\n",
    "    print(\"sum with global_total: \", grand_total)\n",
    "\n",
    "    print (\"Inside the function local total : \", total)\n",
    "    return total\n",
    "\n",
    "# Now you can call sum function\n",
    "sum( 10, 20 )\n",
    "print (\"global_total outside the function  : \", global_total) \n",
    "\n"
   ]
  },
  {
   "cell_type": "code",
   "execution_count": 26,
   "metadata": {},
   "outputs": [
    {
     "name": "stdout",
     "output_type": "stream",
     "text": [
      "global_total:  40\n",
      "Inside the function local total :  30\n",
      "Outside the function global total :  40\n"
     ]
    }
   ],
   "source": [
    "# Exercise 7.1.3.: Can you reassign \"global_total\" within a function? \n",
    "\n",
    "global_total = 10  # global variable\n",
    "\n",
    "def sum( arg1, arg2 ):\n",
    "    total = arg1 + arg2 # Here total is local variable.\n",
    "    global global_total\n",
    "    # modify \"global_total\" by adding \"total\" value to it\n",
    "    global_total += total\n",
    "    print(\"global_total: \", global_total)\n",
    "    \n",
    "    print (\"Inside the function local total : \", total)\n",
    "    return total\n",
    "\n",
    "# Now you can call sum function\n",
    "sum( 10, 20 )\n",
    "print (\"Outside the function global total : \", global_total) \n",
    "\n",
    "# You got an error from the function. Why?\n",
    "# How to fix it?"
   ]
  },
  {
   "cell_type": "markdown",
   "metadata": {},
   "source": [
    "* ** Global Statement **\n",
    "   * How to define/modify a global variable within a function?, i.e.\n",
    "     * Make variables defined within a function accessible outside the function?\n",
    "     * Assign values to global variables within a function?\n",
    "   * Declare a global variable with \"global statement\" "
   ]
  },
  {
   "cell_type": "code",
   "execution_count": null,
   "metadata": {
    "collapsed": true
   },
   "outputs": [],
   "source": [
    "# Exercise 7.1.4.: # Can you modify \"global_total\" within a function?\n",
    "# Yes. Use global statement to refer to a global variable\n",
    "\n",
    "global_total = 10  # global variable\n",
    "\n",
    "def sum( arg1, arg2 ):\n",
    "    total = arg1 + arg2 # Here total is local variable.\n",
    "    \n",
    "    # use global statement to indicate the scope of global_total\n",
    "    global global_total\n",
    "    \n",
    "    global_total+=total\n",
    "    print(\"global_total: \", global_total)\n",
    "    \n",
    "    print (\"Inside the function local total : \", total)\n",
    "    return total\n",
    "\n",
    "# Now you can call sum function\n",
    "sum( 10, 20 )\n",
    "print (\"Outside the function global total : \", global_total) "
   ]
  },
  {
   "cell_type": "code",
   "execution_count": null,
   "metadata": {
    "collapsed": true
   },
   "outputs": [],
   "source": [
    "# Exercise 7.1.5.: Can you define \"global_total\" as a global variable within a function?\n",
    "# Yes. Use global statement to indicate the scope\n",
    "\n",
    "def sum( arg1, arg2 ):\n",
    "    total = arg1 + arg2 # Here total is local variable.\n",
    "    \n",
    "    # use global statement to indicate the scope of global_total\n",
    "    global global_total\n",
    "    \n",
    "    # assign a value to the global variable \n",
    "    global_total = 10  \n",
    "    \n",
    "    # modify it\n",
    "    global_total+=total \n",
    "    print(\"global_total: \", global_total)\n",
    "    \n",
    "    print (\"Inside the function local total : \", total)\n",
    "    return total\n",
    "\n",
    "\n",
    "# Now you can call sum function\n",
    "\n",
    "sum( 10, 20 )\n",
    "print (\"Outside the function global total : \", global_total) \n",
    "\n",
    "\n",
    "# What if you add \"global_total = 50\" before line 4 or before line 20? What you'll get?"
   ]
  },
  {
   "cell_type": "markdown",
   "metadata": {},
   "source": [
    "### 7.2. Function parameters###\n",
    "<div class=\"alert alert-block alert-info\">All parameters in the Python language are passed **by reference**. It means if you change what a parameter refers to within a function, the change also reflects back in the calling function. <br>\n",
    "**by reference**: the called functions' parameter will be the same as the callers' passed argument (not the value, but the identity - the variable itself). <br>\n",
    "**by value**: the called functions' parameter will be a copy of the callers' passed argument</div>"
   ]
  },
  {
   "cell_type": "code",
   "execution_count": 1,
   "metadata": {},
   "outputs": [
    {
     "name": "stdout",
     "output_type": "stream",
     "text": [
      "Values inside the function:  [10, 20, 30, [1, 2, 3, 4]]\n",
      "Values outside the function:  [10, 20, 30, [1, 2, 3, 4]]\n"
     ]
    }
   ],
   "source": [
    "# Exercise 7.2.1: function parameter: by reference or by value?\n",
    "\n",
    "def changeme( mylist ):\n",
    "   # \"This changes a passed list into this function\"\n",
    "   mylist.append([1,2,3,4]);\n",
    "   print (\"Values inside the function: \", mylist)\n",
    "   return mylist\n",
    "\n",
    "# Now you can call changeme function\n",
    "mylist = [10,20,30];\n",
    "newlist=changeme( mylist );\n",
    "print (\"Values outside the function: \", mylist)\n",
    "\n",
    "# global variable \"mylist\" is passed to the function by reference\n",
    "# However, it's value is changed by the function\n"
   ]
  },
  {
   "cell_type": "markdown",
   "metadata": {},
   "source": [
    "<div class=\"alert alert-block alert-info\">\"Pass by reference\" combined with global/local variables can be very confusing</div>"
   ]
  },
  {
   "cell_type": "code",
   "execution_count": 2,
   "metadata": {},
   "outputs": [
    {
     "name": "stdout",
     "output_type": "stream",
     "text": [
      "Values inside the function:  [1, 2, 3, 4]\n",
      "Values outside the function:  [10, 20, 30]\n"
     ]
    }
   ],
   "source": [
    "# Exercise 7.2.2: What will be printed out?\n",
    "\n",
    "\n",
    "def changeme( mylist ):\n",
    "   # \"This changes a passed list into this function\"\n",
    "\n",
    "    mylist=[1,2,3,4]\n",
    "   \n",
    "    print (\"Values inside the function: \", mylist)\n",
    "    return mylist\n",
    "\n",
    "# Now you can call changeme function\n",
    "mylist = [10,20,30];\n",
    "newlist=changeme( mylist );\n",
    "print (\"Values outside the function: \", mylist)\n",
    "\n",
    "# global variable \"mylist\" is passed to the function by reference\n",
    "# However, it's value is not changed by the function\n",
    "# How to understand this?"
   ]
  },
  {
   "cell_type": "markdown",
   "metadata": {},
   "source": [
    "## 8. Class ##\n",
    "\n",
    "- A class can be viewed as a type of complex objects that contains variables and functions.\n",
    "- Basic components of a class\n",
    "  * Instatiation:\n",
    "     1. **\\__new\\__(cls, ...)** is called to create an instance. The first argument cls is the class of which an instance was requested. By default, \\__new\\__ returns the created instance object. You can also override \\__new\\__ to customize the instance creation.\n",
    "     \n",
    "     2. Then additional arguments after \"cls\" are passed to **\\__init\\__(self, ...)** method to  initialize the instance (e.g. add instance-specific attributes). The first argument refers to the instance object returned from \\__new\\__ method.\n",
    "  \n",
    "  * Variables (a.k.a attributes)\n",
    "  * Functions (a.k.a methods)\n",
    "    * \"**self**\" (or any name) must be the first argument to refer to the new instance in class functions in order to make them accessible to class objects\n",
    "    * **self** refers to the class instance created from this class\n",
    "- These components can be accessed using \"**.**\" (e.g. myShape.color)\n"
   ]
  },
  {
   "cell_type": "code",
   "execution_count": 41,
   "metadata": {},
   "outputs": [
    {
     "name": "stdout",
     "output_type": "stream",
     "text": [
      "color is set to:  red\n",
      "red\n",
      "New color is blue\n",
      "blue\n"
     ]
    }
   ],
   "source": [
    "# Exercise 8.1.1: Define a class and use the class\n",
    "\n",
    "# define a class\n",
    "class Shape(object):\n",
    "    \n",
    "    # \"__new__\" method is omitted\n",
    "    \n",
    "    # initializer, \"self\" refers to the object itself\n",
    "    def __init__(self, color):  \n",
    "        # class variable is assigned with input value\n",
    "        self.color = color               \n",
    "        print('color is set to: ', self.color)\n",
    "        \n",
    "    # function (or method) of the class\n",
    "    # note the first argument referencing the class object \n",
    "    # must be there\n",
    "    def changeColor(x, newColor):   \n",
    "        x.color=newColor\n",
    "        return \"New color is \"+x.color\n",
    "    \n",
    "    # note \"self\" must be in every function of the class \n",
    "    \n",
    "# use the class\n",
    "# initiate a shape instance. \n",
    "# \"self\" in the class refers to \"myshape\"\n",
    "myshape=Shape('red') \n",
    "\n",
    "# call class attribute\n",
    "print(myshape.color)  \n",
    "\n",
    "# invoke class method \"changeColor\"\n",
    "print(myshape.changeColor('blue'))  \n",
    "\n",
    "# check what color the instance has\n",
    "print(myshape.color)  "
   ]
  },
  {
   "cell_type": "code",
   "execution_count": 47,
   "metadata": {},
   "outputs": [
    {
     "name": "stdout",
     "output_type": "stream",
     "text": [
      "1. Creating Instance\n",
      "2. Customizing Instance\n",
      "color is set to:  red\n"
     ]
    }
   ],
   "source": [
    "# Exercise 8.1.2: Define a class with customized __new__ method\n",
    "# Note the sequence __new__ and __init__ are called\n",
    "\n",
    "# define a class\n",
    "class Shape(object):\n",
    "    \n",
    "    def __new__(cls, color):\n",
    "        \n",
    "        print (\"1. Creating Instance\")\n",
    "        \n",
    "        # call superclass' (i.e. object) __new__ method\n",
    "        instance = super(Shape, cls).__new__(cls)\n",
    "        \n",
    "        return instance\n",
    "        \n",
    "    \n",
    "    # initializer, \"self\" refers to the object itself\n",
    "    def __init__(self, color):  \n",
    "        \n",
    "        print (\"2. Customizing Instance\")\n",
    "        # class variable is assigned with input value\n",
    "        self.color = color               \n",
    "        print('color is set to: ', self.color)\n",
    "        \n",
    "    # function (or method) of the class\n",
    "    # note \"self\" as an argument\n",
    "    def changeColor(self, newColor):   \n",
    "        self.color=newColor\n",
    "        return \"New color is \"+self.color\n",
    "    \n",
    "# use the class\n",
    "# initiate a shape instance. \n",
    "# \"self\" in the class refers to \"myshape\"\n",
    "myshape=Shape('red') \n"
   ]
  },
  {
   "cell_type": "code",
   "execution_count": 48,
   "metadata": {},
   "outputs": [
    {
     "name": "stdout",
     "output_type": "stream",
     "text": [
      "color is set to:  red\n"
     ]
    },
    {
     "ename": "TypeError",
     "evalue": "changeColor() takes 1 positional argument but 2 were given",
     "output_type": "error",
     "traceback": [
      "\u001b[1;31m---------------------------------------------------------------------------\u001b[0m",
      "\u001b[1;31mTypeError\u001b[0m                                 Traceback (most recent call last)",
      "\u001b[1;32m<ipython-input-48-9d62fadd623d>\u001b[0m in \u001b[0;36m<module>\u001b[1;34m\u001b[0m\n\u001b[0;32m     19\u001b[0m \u001b[1;33m\u001b[0m\u001b[0m\n\u001b[0;32m     20\u001b[0m \u001b[0mmyshape\u001b[0m\u001b[1;33m=\u001b[0m\u001b[0mShape\u001b[0m\u001b[1;33m(\u001b[0m\u001b[1;34m'red'\u001b[0m\u001b[1;33m)\u001b[0m\u001b[1;33m\u001b[0m\u001b[1;33m\u001b[0m\u001b[0m\n\u001b[1;32m---> 21\u001b[1;33m \u001b[0mprint\u001b[0m\u001b[1;33m(\u001b[0m\u001b[0mmyshape\u001b[0m\u001b[1;33m.\u001b[0m\u001b[0mchangeColor\u001b[0m\u001b[1;33m(\u001b[0m\u001b[1;34m'blue'\u001b[0m\u001b[1;33m)\u001b[0m\u001b[1;33m)\u001b[0m\u001b[1;33m\u001b[0m\u001b[1;33m\u001b[0m\u001b[0m\n\u001b[0m\u001b[0;32m     22\u001b[0m \u001b[0mprint\u001b[0m\u001b[1;33m(\u001b[0m\u001b[0mchangeColor\u001b[0m\u001b[1;33m(\u001b[0m\u001b[1;34m'blue'\u001b[0m\u001b[1;33m)\u001b[0m\u001b[1;33m)\u001b[0m\u001b[1;33m\u001b[0m\u001b[1;33m\u001b[0m\u001b[0m\n\u001b[0;32m     23\u001b[0m \u001b[1;33m\u001b[0m\u001b[0m\n",
      "\u001b[1;31mTypeError\u001b[0m: changeColor() takes 1 positional argument but 2 were given"
     ]
    }
   ],
   "source": [
    "# Exercise 8.1.3.: Common mistake: \n",
    "# forget the first argument (reference to the new instance) \n",
    "# What error you'll get?\n",
    "\n",
    "class Shape(object):\n",
    "    \n",
    "    # constructor, \"self\" refers to the object itself\n",
    "    def __init__(self, color):  \n",
    "        # class variable is assigned with input value\n",
    "        self.color = color               \n",
    "        print('color is set to: ', self.color)\n",
    "        \n",
    "    # function (or method) of the class\n",
    "    # note \"self\" is not an argument\n",
    "    # then this function is only an internal function not exposed\n",
    "    def changeColor(newColor):   \n",
    "        self.color=newColor\n",
    "        return \"New color is \"+self.color\n",
    "        \n",
    "myshape=Shape('red')   \n",
    "print(myshape.changeColor('blue'))  \n",
    "print(changeColor('blue'))\n",
    "\n",
    "# note that, you can name the first argument anything you like. \n",
    "# It does not have to be \"self\""
   ]
  },
  {
   "cell_type": "markdown",
   "metadata": {},
   "source": [
    "### 8.1. Class Inheritance ###\n",
    "\n",
    "- A class (i.e. child class) can inherit from another class (i.e. superclass):\n",
    "  - attributes\n",
    "  - methods\n",
    "- There exists a hierarchy relationship between classes. It's similar to relationships or categorizations that we know from real life. \n",
    "  - e.g. Vehicle (supperclass) vs. cars and buses (child class) "
   ]
  },
  {
   "cell_type": "code",
   "execution_count": 50,
   "metadata": {},
   "outputs": [
    {
     "name": "stdout",
     "output_type": "stream",
     "text": [
      "color is set to:  green\n",
      "16\n",
      "green\n"
     ]
    }
   ],
   "source": [
    "# Exercise 8.2.1: define a Square class based on Shape \n",
    "\n",
    "class Square(Shape): # Square inherits from \"Shape\"\n",
    "    \n",
    "    # constructor\n",
    "    def __init__(self, color, edge):\n",
    "        \n",
    "        # call superclass' constructor\n",
    "        Shape.__init__(self, color)\n",
    "        \n",
    "        # initialize another variable\n",
    "        self.edge = edge\n",
    "    \n",
    "    # define a new function getArea \n",
    "    def getArea(self):\n",
    "        return self.edge*self.edge\n",
    "    \n",
    "# use Square class\n",
    "my_square=Square('green', 4)\n",
    "\n",
    "# get square area\n",
    "print(my_square.getArea())\n",
    "\n",
    "# get square color\n",
    "print(my_square.color)\n",
    "\n",
    "# change square color\n",
    "#print(my_square.changeColor(\"blue\"))"
   ]
  },
  {
   "cell_type": "code",
   "execution_count": 54,
   "metadata": {},
   "outputs": [
    {
     "name": "stdout",
     "output_type": "stream",
     "text": [
      "color is set to:  green\n",
      "3.1416\n",
      "green\n"
     ]
    }
   ],
   "source": [
    "# Exercise 8.2.2: define a Circle class based on Shape \n",
    "# Requirements:\n",
    "# 1. Add a new parameter, diameter\n",
    "# 2. Define getArea function to calculate the area of a circle\n",
    "# 3. Initialize a circle instance with color green and \\\n",
    "     # diameter 5\n",
    "# 4. Print out the circle's area and diameter\n",
    "\n",
    "class Circle(Shape):\n",
    "    \n",
    "    def __init__(self, color, diameter):\n",
    "        \n",
    "        # call superclass' constructor\n",
    "        Shape.__init__(self, color)\n",
    "        \n",
    "        # initialize another variable\n",
    "        self.diameter = diameter\n",
    "    \n",
    "    # define a new function getArea \n",
    "    def getArea(self):\n",
    "        return (3.1416*self.diameter/2**2)\n",
    "    \n",
    "# use Square class\n",
    "my_circle = Circle('green', 4)\n",
    "\n",
    "# get square area\n",
    "print(my_circle.getArea())\n",
    "\n",
    "# get square color\n",
    "print(my_circle.color)\n"
   ]
  },
  {
   "cell_type": "markdown",
   "metadata": {},
   "source": [
    "## 9. Modules ### \n",
    "*  Any python source file can be used as a module\n",
    "*  Modules are imported to source files using **<font color=blue>import</font>**\n",
    "*  The imported modules need to be located in the module search paths, which contains the following by default: \n",
    "   * the current directory.\n",
    "   * directories listed in the shell variable PYTHONPATH.\n",
    "   * system python path, e.g. sys.path"
   ]
  },
  {
   "cell_type": "code",
   "execution_count": 55,
   "metadata": {},
   "outputs": [
    {
     "name": "stdout",
     "output_type": "stream",
     "text": [
      "2\n",
      "3.141592653589793\n",
      "2\n"
     ]
    }
   ],
   "source": [
    "# Exercise 9.1.: Importing modules\n",
    "\n",
    "# import the entire math module\n",
    "import math                                   \n",
    " \n",
    "x=2.15 \n",
    "\n",
    "# floor is a function in math module\n",
    "print (math.floor(x))    \n",
    "print(math.pi)\n",
    "\n",
    "# import the only floor and exp functions from math module\n",
    "from math import floor, exp                   \n",
    "print (floor(x))"
   ]
  },
  {
   "cell_type": "code",
   "execution_count": null,
   "metadata": {
    "collapsed": true
   },
   "outputs": [],
   "source": [
    "# Exercise 9.2.: Import your own module\n",
    "\n",
    "# assume you defined a module say simple_module.py, located at \n",
    "# /Users/rliu/course/BIA-660/2018Spring/Python/my_modules/simple_module.py\n",
    "# to use your module, use the following\n",
    "\n",
    "import sys\n",
    "\n",
    "# Append simple_module location to python search path\n",
    "sys.path.append('/Users/nchauras/training/Python')   \n",
    "\n",
    "# import your simple_module and give another name \"m\"\n",
    "# or you can import specific functions \n",
    "# or classes in your module\n",
    "import simple_module as m   \n",
    "\n",
    "# call the greet function\n",
    "m.greet()     \n",
    "\n",
    "# initialize the import Circle class\n",
    "my_square=m.Square('green',8)\n",
    "print(my_square.getArea())"
   ]
  },
  {
   "cell_type": "code",
   "execution_count": 1,
   "metadata": {},
   "outputs": [
    {
     "ename": "SyntaxError",
     "evalue": "invalid syntax (<ipython-input-1-36d99751b3f7>, line 11)",
     "output_type": "error",
     "traceback": [
      "\u001b[1;36m  File \u001b[1;32m\"<ipython-input-1-36d99751b3f7>\"\u001b[1;36m, line \u001b[1;32m11\u001b[0m\n\u001b[1;33m    from Homework import my_circle.color\u001b[0m\n\u001b[1;37m                                  ^\u001b[0m\n\u001b[1;31mSyntaxError\u001b[0m\u001b[1;31m:\u001b[0m invalid syntax\n"
     ]
    }
   ],
   "source": [
    "# Exercise 9.3.: Import your own module\n",
    "# Requirement:\n",
    "# 1. Create a .py file to contain the following:\n",
    "#    - the function you defined in Exercise 7.2\n",
    "#    - the circle class you defined in Exercise 8.2.2, \n",
    "#      including both superclass and subclass\n",
    "# 2. Import your .py file\n",
    "# 3. Invoke your function and initialize your class\n",
    "\n",
    "import Homework\n",
    "from Homework import my_circle.color\n",
    "\n",
    "my_circle = Circle('green', 4)\n",
    "my_circle.color(my_circle)\n"
   ]
  },
  {
   "cell_type": "markdown",
   "metadata": {},
   "source": [
    "## 10. File Input/Output ##"
   ]
  },
  {
   "cell_type": "code",
   "execution_count": 17,
   "metadata": {
    "collapsed": true
   },
   "outputs": [],
   "source": [
    "# Exercise 10.1.: write data to a file\n",
    "\n",
    "lines=[\"Python is a great language\\n\",\"Yeah it's great!!\\n\"]\n",
    "# open a file in \"w\" (writing) mode. \n",
    "# foo.txt will be saved to your current working folder\n",
    "f = open(\"foo.txt\", \"w\")                       \n",
    "\n",
    "# write all lines to file\n",
    "f.writelines(lines);                           \n",
    "\n",
    "# Close opened file\n",
    "f.close()      \n",
    "\n",
    "# what if you already have foo.txt and \n",
    "# you want to append the content?"
   ]
  },
  {
   "cell_type": "code",
   "execution_count": 20,
   "metadata": {},
   "outputs": [
    {
     "name": "stdout",
     "output_type": "stream",
     "text": [
      "[(0, 'Python is a great language\\n'), (1, \"Yeah it's great!!\\n\"), (2, 'Python is a great language\\n'), (3, \"Yeah it's great!!\\n\"), (4, 'Python is a great language\\n'), (5, \"Yeah it's great!!\\n\")]\n",
      "['Python is a great language\\n', \"Yeah it's great!!\\n\", 'Python is a great language\\n', \"Yeah it's great!!\\n\", 'Python is a great language\\n', \"Yeah it's great!!\\n\"]\n"
     ]
    }
   ],
   "source": [
    "# Exercise 10.2.: read data from a file\n",
    "\n",
    "# open a file in \"r\" (reading) mode\n",
    "f = open(\"foo.txt\", \"r\")                       \n",
    "# loop through all lines\n",
    "lines=[(line[0], line[1]) for line in enumerate(f)]                     \n",
    "print (lines)\n",
    "f.close()\n",
    "\n",
    "# read all lines in one time\n",
    "f = open(\"foo.txt\", \"r\")\n",
    "print (f.readlines())                            \n",
    "# Close opend file\n",
    "f.close()"
   ]
  },
  {
   "cell_type": "code",
   "execution_count": 21,
   "metadata": {},
   "outputs": [
    {
     "name": "stdout",
     "output_type": "stream",
     "text": [
      "[(1, 1.0), (2, 3.5), (4, 5.8), (5, 0.8)]\n"
     ]
    }
   ],
   "source": [
    "# Exercise 10.3: work with csv files\n",
    "\n",
    "# csv is a package to handle csv files\n",
    "import csv                                       \n",
    "\n",
    "# write csv file\n",
    "rows=[(1,1.0), (2, 3.5), (4, 5.8), (5, 0.8)]\n",
    "\n",
    "# use \"with\" statement to automatically \n",
    "# close the file after completing the block   \n",
    "with open(\"foo.csv\", \"w\") as f:  \n",
    "    # write to a csv file delimited \n",
    "    # by \"\\t\" (you can set \",\" or other delimiters)                    \n",
    "    writer=csv.writer(f, delimiter='\\t')          \n",
    "    writer.writerows(rows)\n",
    "    \n",
    "# read csv file\n",
    "with open(\"foo.csv\", \"r\") as f:\n",
    "    # read a csv file delimited by \\t\" \n",
    "    reader=csv.reader(f, delimiter='\\t') \n",
    "    # each row is a list of strings\n",
    "    # use int/float to convert strings to numbers\n",
    "    rows=[(int(row[0]), float(row[1])) \\\n",
    "          for row in reader]      \n",
    "    \n",
    "    print (rows)\n",
    "    \n",
    "# what if you'd like to also get line number, e.g. 1, 2, 3, ...?"
   ]
  },
  {
   "cell_type": "markdown",
   "metadata": {},
   "source": [
    "## 11. Typical Python File (.py) Structure ##\n",
    "* Import statements\n",
    "* Define all functions and classes\n",
    "* A main block to invoke/test the functions and classes (similar to main() Java!)\n",
    "    * if your script is exported as a module, the main block is ignored."
   ]
  },
  {
   "cell_type": "code",
   "execution_count": null,
   "metadata": {
    "collapsed": true
   },
   "outputs": [],
   "source": [
    "# Import block\n",
    "import math\n",
    "\n",
    "# Functiones and classes\n",
    "def greet():\n",
    "    print(\"welcome!\")\n",
    "    \n",
    "class Shape(object):\n",
    "    \n",
    "    # constructor, \"self\" refers to the object itself\n",
    "    def __init__(self, color):  \n",
    "        # class variable is assigned with input value\n",
    "        self.color = color               \n",
    "        \n",
    "    # function (or method) of the class\n",
    "    def changeColor(self, newColor):   \n",
    "        self.color=newColor\n",
    "        return \"New color is \"+self.color \n",
    "\n",
    "class Circle(Shape):\n",
    "    \n",
    "    # constructor\n",
    "    def __init__(self, color, diameter):\n",
    "        # call superclass' constructor\n",
    "        Shape.__init__(self, color)\n",
    "        # initialize another variable\n",
    "        self.diameter = diameter\n",
    "    \n",
    "    # override getArea function from superclass\n",
    "    def getArea(self):\n",
    "        return 0.25*math.pi*(self.diameter**2)\n",
    "\n",
    "# best practice to test your classes and functions\n",
    "# if your script is exported as a module,\n",
    "# the following part is ignored\n",
    "# this is equivalent to main() in Java\n",
    "\n",
    "if __name__ == \"__main__\":  \n",
    "    \n",
    "    # Test function\n",
    "    greet()\n",
    "    \n",
    "    # test circle class\n",
    "    circle=Circle(\"red\", 10)\n",
    "    print(circle.getArea())"
   ]
  },
  {
   "cell_type": "code",
   "execution_count": null,
   "metadata": {
    "collapsed": true
   },
   "outputs": [],
   "source": []
  }
 ],
 "metadata": {
  "anaconda-cloud": {},
  "kernelspec": {
   "display_name": "Python 3",
   "language": "python",
   "name": "python3"
  },
  "language_info": {
   "codemirror_mode": {
    "name": "ipython",
    "version": 3
   },
   "file_extension": ".py",
   "mimetype": "text/x-python",
   "name": "python",
   "nbconvert_exporter": "python",
   "pygments_lexer": "ipython3",
   "version": "3.7.4"
  }
 },
 "nbformat": 4,
 "nbformat_minor": 1
}
